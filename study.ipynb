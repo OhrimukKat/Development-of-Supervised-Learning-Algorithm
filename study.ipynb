{
 "cells": [
  {
   "cell_type": "code",
   "execution_count": 4,
   "metadata": {},
   "outputs": [],
   "source": [
    "import numpy as np\n",
    "import pandas as pd\n",
    "\n",
    "import matplotlib.pylab as plt\n",
    "import seaborn as sns\n",
    "#import pandas_profiling \n",
    "import seaborn as sns\n",
    "from datetime import datetime\n",
    "\n",
    "import lightgbm as lgb\n",
    "\n",
    "import statsmodels.api as sm\n",
    "from sklearn import model_selection\n",
    "from sklearn import metrics\n",
    "#from sklearn.cross_validation import train_test_split\n",
    "\n",
    "from sklearn.ensemble import RandomForestRegressor, BaggingRegressor, ExtraTreesRegressor\n",
    "\n",
    "from sklearn.tree import DecisionTreeRegressor\n",
    "from sklearn.ensemble import AdaBoostRegressor\n",
    "from sklearn.ensemble import GradientBoostingRegressor\n",
    "from sklearn.svm import SVC, LinearSVC\n",
    "from sklearn.metrics import mean_squared_error as mse\n",
    "from sklearn.metrics import mean_absolute_error, mean_squared_error\n",
    "from xgboost import XGBRegressor\n",
    "from sklearn import linear_model\n",
    "from sklearn.ensemble import VotingRegressor\n",
    "\n",
    "from sklearn.metrics import r2_score\n",
    "from mlxtend.regressor import StackingCVRegressor\n",
    "\n",
    "#?#from lightgbm import LGBMRegressor\n",
    "\n"
   ]
  },
  {
   "cell_type": "code",
   "execution_count": 5,
   "metadata": {},
   "outputs": [],
   "source": [
    "# y_test = pd.read_csv(\"y_test.csv\")\n",
    "# X_test = pd.read_csv(\"X_test.csv\")\n",
    "# y_train = pd.read_csv(\"y_train.csv\")\n",
    "# X_train = pd.read_csv(\"X_train.csv\")"
   ]
  },
  {
   "cell_type": "code",
   "execution_count": 6,
   "metadata": {},
   "outputs": [
    {
     "name": "stdout",
     "output_type": "stream",
     "text": [
      "Populating the interactive namespace from numpy and matplotlib\n"
     ]
    },
    {
     "name": "stderr",
     "output_type": "stream",
     "text": [
      "C:\\Users\\User\\Anaconda3\\lib\\site-packages\\IPython\\core\\magics\\pylab.py:160: UserWarning: pylab import has clobbered these variables: ['datetime', 'plt']\n",
      "`%matplotlib` prevents importing * from pylab and numpy\n",
      "  \"\\n`%matplotlib` prevents importing * from pylab and numpy\"\n"
     ]
    }
   ],
   "source": [
    "%pylab inline"
   ]
  },
  {
   "cell_type": "markdown",
   "metadata": {},
   "source": [
    "### импорт данных"
   ]
  },
  {
   "cell_type": "code",
   "execution_count": 7,
   "metadata": {},
   "outputs": [],
   "source": [
    "train = pd.read_csv('train_done.csv')\n",
    "test = pd.read_csv('test_done.csv')"
   ]
  },
  {
   "cell_type": "code",
   "execution_count": 8,
   "metadata": {},
   "outputs": [
    {
     "data": {
      "text/plain": [
       "((421570, 18), (421570,), (115064, 18))"
      ]
     },
     "execution_count": 8,
     "metadata": {},
     "output_type": "execute_result"
    }
   ],
   "source": [
    "train_X=train.drop(['Weekly_Sales','Date'], axis=1)\n",
    "train_y=train['Weekly_Sales'] \n",
    "test_X=test.drop('Date',axis=1).copy()\n",
    "\n",
    "train_X.shape, train_y.shape, test_X.shape"
   ]
  },
  {
   "cell_type": "code",
   "execution_count": 9,
   "metadata": {},
   "outputs": [],
   "source": [
    "# разбили на обучение и тест обучающую выборку\n",
    "X_train, X_test, y_train, y_test = model_selection.train_test_split(train_X, train_y, test_size=0.25)"
   ]
  },
  {
   "cell_type": "markdown",
   "metadata": {},
   "source": [
    "# обучение"
   ]
  },
  {
   "cell_type": "markdown",
   "metadata": {},
   "source": [
    "### RandomForest-случайный лес"
   ]
  },
  {
   "cell_type": "code",
   "execution_count": 10,
   "metadata": {},
   "outputs": [
    {
     "data": {
      "text/plain": [
       "RandomForestRegressor(bootstrap=True, ccp_alpha=0.0, criterion='mse',\n",
       "                      max_depth=None, max_features=18, max_leaf_nodes=None,\n",
       "                      max_samples=None, min_impurity_decrease=0.0,\n",
       "                      min_impurity_split=None, min_samples_leaf=1,\n",
       "                      min_samples_split=2, min_weight_fraction_leaf=0.0,\n",
       "                      n_estimators=600, n_jobs=-1, oob_score=False,\n",
       "                      random_state=None, verbose=0, warm_start=False)"
      ]
     },
     "execution_count": 10,
     "metadata": {},
     "output_type": "execute_result"
    }
   ],
   "source": [
    "clf_rf = RandomForestRegressor(max_features = 18, n_estimators = 600, n_jobs=-1)\n",
    "#y_train.values.ravel()\n",
    "clf_rf.fit(X_train, y_train)"
   ]
  },
  {
   "cell_type": "code",
   "execution_count": 11,
   "metadata": {},
   "outputs": [
    {
     "name": "stdout",
     "output_type": "stream",
     "text": [
      "Средняя абсолютная ошибка:1282.690665744562\n",
      "Квадрат Среднего квадрата отклонения(RMSE):2758.3481943980564\n",
      "R2:0.9817595839524748\n"
     ]
    }
   ],
   "source": [
    "y_pred_rf=clf_rf.predict(X_test)\n",
    "metric_rf = metrics.mean_absolute_error(y_test, y_pred_rf)\n",
    "metric_sq_rf = np.sqrt(metrics.mean_squared_error(y_test, y_pred_rf))\n",
    "print ('Средняя абсолютная ошибка:'+ str(metric_rf))\n",
    "print ('Квадрат Среднего квадрата отклонения(RMSE):'+ str(metric_sq_rf))\n",
    "score_rf = r2_score(y_test, y_pred_rf)\n",
    "print('R2:'+ str(score_rf))"
   ]
  },
  {
   "cell_type": "markdown",
   "metadata": {},
   "source": [
    "### DecisionTree - Дерево решений"
   ]
  },
  {
   "cell_type": "code",
   "execution_count": 14,
   "metadata": {},
   "outputs": [
    {
     "data": {
      "text/plain": [
       "dict_keys(['ccp_alpha', 'criterion', 'max_depth', 'max_features', 'max_leaf_nodes', 'min_impurity_decrease', 'min_impurity_split', 'min_samples_leaf', 'min_samples_split', 'min_weight_fraction_leaf', 'presort', 'random_state', 'splitter'])"
      ]
     },
     "execution_count": 14,
     "metadata": {},
     "output_type": "execute_result"
    }
   ],
   "source": [
    "clf_dt.get_params().keys()\n",
    "# посмотрим какие параметры у нас вообще есть, какие можем подобрать"
   ]
  },
  {
   "cell_type": "code",
   "execution_count": 15,
   "metadata": {},
   "outputs": [
    {
     "data": {
      "text/plain": [
       "DecisionTreeRegressor(ccp_alpha=0.0, criterion='mse', max_depth=25,\n",
       "                      max_features=None, max_leaf_nodes=None,\n",
       "                      min_impurity_decrease=0.0, min_impurity_split=None,\n",
       "                      min_samples_leaf=4, min_samples_split=16,\n",
       "                      min_weight_fraction_leaf=0.0, presort='deprecated',\n",
       "                      random_state=None, splitter='best')"
      ]
     },
     "execution_count": 15,
     "metadata": {},
     "output_type": "execute_result"
    }
   ],
   "source": [
    "clf_dt=DecisionTreeRegressor(max_depth= 25,  min_samples_leaf = 4, min_samples_split = 16)\n",
    "clf_dt.fit(X_train, y_train)"
   ]
  },
  {
   "cell_type": "code",
   "execution_count": 16,
   "metadata": {},
   "outputs": [
    {
     "name": "stdout",
     "output_type": "stream",
     "text": [
      "Средняя абсолютная ошибка:1573.9391860186417\n",
      "Квадрат Среднего квадрата отклонения(RMSE):3460.785731470817\n",
      "R2:0.9712865096297425\n"
     ]
    }
   ],
   "source": [
    "y_pred_dt= clf_dt.predict(X_test) #делаем предсказание\n",
    "metric_dt = metrics.mean_absolute_error(y_test, y_pred_dt)\n",
    "metric_sq_dt = np.sqrt(metrics.mean_squared_error(y_test, y_pred_dt))\n",
    "print ('Средняя абсолютная ошибка:'+ str(metric_dt))\n",
    "print ('Квадрат Среднего квадрата отклонения(RMSE):'+ str(metric_sq_dt))\n",
    "score_dt = r2_score(y_test, y_pred_dt)\n",
    "print('R2:'+ str(score_dt))"
   ]
  },
  {
   "cell_type": "markdown",
   "metadata": {},
   "source": [
    "### BaggingReg - бэггинг"
   ]
  },
  {
   "cell_type": "code",
   "execution_count": 9,
   "metadata": {},
   "outputs": [
    {
     "data": {
      "text/plain": [
       "dict_keys(['base_estimator__ccp_alpha', 'base_estimator__criterion', 'base_estimator__max_depth', 'base_estimator__max_features', 'base_estimator__max_leaf_nodes', 'base_estimator__min_impurity_decrease', 'base_estimator__min_impurity_split', 'base_estimator__min_samples_leaf', 'base_estimator__min_samples_split', 'base_estimator__min_weight_fraction_leaf', 'base_estimator__presort', 'base_estimator__random_state', 'base_estimator__splitter', 'base_estimator', 'bootstrap', 'bootstrap_features', 'max_features', 'max_samples', 'n_estimators', 'n_jobs', 'oob_score', 'random_state', 'verbose', 'warm_start'])"
      ]
     },
     "execution_count": 9,
     "metadata": {},
     "output_type": "execute_result"
    }
   ],
   "source": [
    "bag_clf.get_params().keys()"
   ]
  },
  {
   "cell_type": "code",
   "execution_count": 11,
   "metadata": {},
   "outputs": [
    {
     "data": {
      "text/plain": [
       "BaggingRegressor(base_estimator=DecisionTreeRegressor(ccp_alpha=0.0,\n",
       "                                                      criterion='mse',\n",
       "                                                      max_depth=None,\n",
       "                                                      max_features=None,\n",
       "                                                      max_leaf_nodes=None,\n",
       "                                                      min_impurity_decrease=0.0,\n",
       "                                                      min_impurity_split=None,\n",
       "                                                      min_samples_leaf=1,\n",
       "                                                      min_samples_split=2,\n",
       "                                                      min_weight_fraction_leaf=0.0,\n",
       "                                                      presort='deprecated',\n",
       "                                                      random_state=None,\n",
       "                                                      splitter='best'),\n",
       "                 bootstrap=True, bootstrap_features=False, max_features=18,\n",
       "                 max_samples=1.0, n_estimators=100, n_jobs=-1, oob_score=False,\n",
       "                 random_state=None, verbose=0, warm_start=False)"
      ]
     },
     "execution_count": 11,
     "metadata": {},
     "output_type": "execute_result"
    }
   ],
   "source": [
    "bag_clf =  BaggingRegressor (\n",
    "    DecisionTreeRegressor (), n_estimators=100 ,max_features = 18,  n_jobs = -1)\n",
    "bag_clf.fit(X_train, y_train)"
   ]
  },
  {
   "cell_type": "code",
   "execution_count": 13,
   "metadata": {},
   "outputs": [
    {
     "name": "stdout",
     "output_type": "stream",
     "text": [
      "Средняя абсолютная ошибка:1290.4654087140516\n",
      "Квадрат Среднего квадрата отклонения(RMSE):2760.8215094928423\n",
      "R2:0.9818616574339063\n"
     ]
    }
   ],
   "source": [
    "y_pred_bag = bag_clf.predict(X_test ) \n",
    "metric_bag = metrics.mean_absolute_error(y_test, y_pred_bag)\n",
    "metric_sq_bag = np.sqrt(metrics.mean_squared_error(y_test, y_pred_bag))\n",
    "print ('Средняя абсолютная ошибка:'+ str(metric_bag))\n",
    "print ('Квадрат Среднего квадрата отклонения(RMSE):'+ str(metric_sq_bag))\n",
    "score_bag = r2_score(y_test, y_pred_bag)\n",
    "print('R2:'+ str(score_bag))"
   ]
  },
  {
   "cell_type": "markdown",
   "metadata": {},
   "source": [
    "### ExtraTrees - особый лес"
   ]
  },
  {
   "cell_type": "code",
   "execution_count": 9,
   "metadata": {},
   "outputs": [
    {
     "data": {
      "text/plain": [
       "ExtraTreesRegressor(bootstrap=False, ccp_alpha=0.0, criterion='mse',\n",
       "                    max_depth=None, max_features='auto', max_leaf_nodes=None,\n",
       "                    max_samples=None, min_impurity_decrease=0.0,\n",
       "                    min_impurity_split=None, min_samples_leaf=1,\n",
       "                    min_samples_split=5, min_weight_fraction_leaf=0.0,\n",
       "                    n_estimators=400, n_jobs=None, oob_score=False,\n",
       "                    random_state=None, verbose=0, warm_start=False)"
      ]
     },
     "execution_count": 9,
     "metadata": {},
     "output_type": "execute_result"
    }
   ],
   "source": [
    "clf_ex = ExtraTreesRegressor (min_samples_leaf = 1, min_samples_split =5, n_estimators = 400) \n",
    "clf_ex.fit(X_train, y_train)"
   ]
  },
  {
   "cell_type": "code",
   "execution_count": 12,
   "metadata": {},
   "outputs": [
    {
     "name": "stdout",
     "output_type": "stream",
     "text": [
      "Средняя абсолютная ошибка:1261.3189659887278\n",
      "Квадрат Среднего квадрата отклонения(RMSE):2709.5775647696773\n",
      "0.9825388383830763\n"
     ]
    }
   ],
   "source": [
    "y_pred_ex= clf_ex.predict(X_test) \n",
    "metric_ex = metrics.mean_absolute_error(y_test, y_pred_ex) \n",
    "metric_sq_ex = np.sqrt(metrics.mean_squared_error(y_test, y_pred_ex))\n",
    "print ('Средняя абсолютная ошибка:'+ str(metric_ex))\n",
    "print ('Квадрат Среднего квадрата отклонения(RMSE):'+ str(metric_sq_ex))\n",
    "score_ex = r2_score(y_test, y_pred_ex)\n",
    "print('Квадрат Среднего квадрата отклонения(RMSE):'+ str(score_ex))"
   ]
  },
  {
   "cell_type": "markdown",
   "metadata": {},
   "source": [
    "### AdaBoost"
   ]
  },
  {
   "cell_type": "code",
   "execution_count": 11,
   "metadata": {},
   "outputs": [
    {
     "data": {
      "text/plain": [
       "AdaBoostRegressor(base_estimator=DecisionTreeRegressor(ccp_alpha=0.0,\n",
       "                                                       criterion='mse',\n",
       "                                                       max_depth=None,\n",
       "                                                       max_features=None,\n",
       "                                                       max_leaf_nodes=None,\n",
       "                                                       min_impurity_decrease=0.0,\n",
       "                                                       min_impurity_split=None,\n",
       "                                                       min_samples_leaf=1,\n",
       "                                                       min_samples_split=2,\n",
       "                                                       min_weight_fraction_leaf=0.0,\n",
       "                                                       presort='deprecated',\n",
       "                                                       random_state=None,\n",
       "                                                       splitter='best'),\n",
       "                  learning_rate=1.2, loss='linear', n_estimators=400,\n",
       "                  random_state=None)"
      ]
     },
     "execution_count": 11,
     "metadata": {},
     "output_type": "execute_result"
    }
   ],
   "source": [
    "ada_clf = AdaBoostRegressor (DecisionTreeRegressor(), n_estimators=400, learning_rate=1.2, loss = 'linear')\n",
    "ada_clf.fit(X_train, y_train)\n",
    "#'base_estimator__max_depth': 15, 'learning_rate': 0.5, 'n_estimators': 200"
   ]
  },
  {
   "cell_type": "code",
   "execution_count": 13,
   "metadata": {},
   "outputs": [
    {
     "name": "stdout",
     "output_type": "stream",
     "text": [
      "Средняя абсолютная ошибка:1242.6112455286404\n",
      "Квадрат Среднего квадрата отклонения(RMSE):2678.0699053979683\n",
      "0.9829425630353633\n"
     ]
    }
   ],
   "source": [
    "y_pred_ada= ada_clf.predict(X_test) \n",
    "metric_ada = metrics.mean_absolute_error(y_test, y_pred_ada) \n",
    "metric_sq_ada = np.sqrt(metrics.mean_squared_error(y_test, y_pred_ada))\n",
    "print ('Средняя абсолютная ошибка:'+ str(metric_ada))\n",
    "print ('Квадрат Среднего квадрата отклонения(RMSE):' + str(metric_sq_ada))\n",
    "score_ada = r2_score(y_test, y_pred_ada)\n",
    "print(score_ada)"
   ]
  },
  {
   "cell_type": "markdown",
   "metadata": {},
   "source": [
    "### xgboost - градиентный бустинг"
   ]
  },
  {
   "cell_type": "code",
   "execution_count": 7,
   "metadata": {},
   "outputs": [
    {
     "name": "stderr",
     "output_type": "stream",
     "text": [
      "C:\\Users\\User\\Anaconda3\\lib\\site-packages\\xgboost\\core.py:587: FutureWarning: Series.base is deprecated and will be removed in a future version\n",
      "  if getattr(data, 'base', None) is not None and \\\n"
     ]
    },
    {
     "name": "stdout",
     "output_type": "stream",
     "text": [
      "[00:50:19] WARNING: C:/Jenkins/workspace/xgboost-win64_release_0.90/src/objective/regression_obj.cu:152: reg:linear is now deprecated in favor of reg:squarederror.\n"
     ]
    }
   ],
   "source": [
    "xgb_clf = XGBRegressor(n_estimators= 600, max_depth= 15, subsample = 0.9, colsample_bytree = 0.8) \n",
    "xgb_clf = xgb_clf.fit(X_train, y_train)"
   ]
  },
  {
   "cell_type": "code",
   "execution_count": 8,
   "metadata": {},
   "outputs": [
    {
     "name": "stdout",
     "output_type": "stream",
     "text": [
      "Средняя абсолютная ошибка:1133.657273713479\n",
      "Квадрат Среднего квадрата отклонения(RMSE):2313.8924205457665\n",
      "0.9872742881030935\n"
     ]
    }
   ],
   "source": [
    "y_pred_xgb= xgb_clf.predict(X_test) \n",
    "metric_xgb = metrics.mean_absolute_error(y_test, y_pred_xgb) \n",
    "metric_sq_xgb = np.sqrt(metrics.mean_squared_error(y_test, y_pred_xgb))\n",
    "print ('Средняя абсолютная ошибка:'+ str(metric_xgb))\n",
    "print ('Квадрат Среднего квадрата отклонения(RMSE):' + str(metric_sq_xgb))\n",
    "score_xgb = r2_score(y_test, y_pred_xgb)\n",
    "print('Квадрат Среднего квадрата отклонения(RMSE):'+ str(score_xgb))"
   ]
  },
  {
   "cell_type": "markdown",
   "metadata": {},
   "source": [
    "## диаграммы рассеивания"
   ]
  },
  {
   "cell_type": "code",
   "execution_count": 10,
   "metadata": {},
   "outputs": [
    {
     "data": {
      "image/png": "[encoded data removed]",
      "text/plain": [
       "<Figure size 432x288 with 1 Axes>"
      ]
     },
     "metadata": {
      "needs_background": "light"
     },
     "output_type": "display_data"
    }
   ],
   "source": [
    "plt.scatter(y_test, y_pred_rf, c='black',alpha=0.3)\n",
    "plt.xlabel(\"y_test\")\n",
    "plt.ylabel(\"y_pred\")\n",
    "plt.show()"
   ]
  },
  {
   "cell_type": "code",
   "execution_count": 10,
   "metadata": {},
   "outputs": [
    {
     "data": {
      "image/png": "[encoded data removed]",
      "text/plain": [
       "<Figure size 432x288 with 1 Axes>"
      ]
     },
     "metadata": {
      "needs_background": "light"
     },
     "output_type": "display_data"
    }
   ],
   "source": [
    "plt.scatter(y_test, y_pred_dt, c='green',alpha=0.3)\n",
    "plt.xlabel(\"y_test\")\n",
    "plt.ylabel(\"y_pred\")\n",
    "plt.show()"
   ]
  },
  {
   "cell_type": "code",
   "execution_count": 14,
   "metadata": {},
   "outputs": [
    {
     "data": {
      "image/png": "[encoded data removed]",
      "text/plain": [
       "<Figure size 432x288 with 1 Axes>"
      ]
     },
     "metadata": {
      "needs_background": "light"
     },
     "output_type": "display_data"
    }
   ],
   "source": [
    "plt.scatter(y_test, y_pred_bag, c='yellow',alpha=0.3)\n",
    "plt.xlabel(\"y_test\")\n",
    "plt.ylabel(\"y_pred\")\n",
    "plt.show()"
   ]
  },
  {
   "cell_type": "code",
   "execution_count": 40,
   "metadata": {},
   "outputs": [
    {
     "data": {
      "image/png": "[encoded data removed]",
      "text/plain": [
       "<Figure size 432x288 with 1 Axes>"
      ]
     },
     "metadata": {
      "needs_background": "light"
     },
     "output_type": "display_data"
    }
   ],
   "source": [
    "plt.scatter(y_test, y_pred_ex, c='red',alpha=0.3)\n",
    "plt.xlabel(\"y_test\")\n",
    "plt.ylabel(\"y_pred\")\n",
    "plt.show()"
   ]
  },
  {
   "cell_type": "code",
   "execution_count": 41,
   "metadata": {},
   "outputs": [
    {
     "data": {
      "image/png": "[encoded data removed]",
      "text/plain": [
       "<Figure size 432x288 with 1 Axes>"
      ]
     },
     "metadata": {
      "needs_background": "light"
     },
     "output_type": "display_data"
    }
   ],
   "source": [
    "plt.scatter(y_test, y_pred_ada, c='blue',alpha=0.3)\n",
    "plt.xlabel(\"y_test\")\n",
    "plt.ylabel(\"y_pred\")\n",
    "plt.show()"
   ]
  },
  {
   "cell_type": "code",
   "execution_count": 42,
   "metadata": {},
   "outputs": [
    {
     "data": {
      "image/png": "[encoded data removed]",
      "text/plain": [
       "<Figure size 432x288 with 1 Axes>"
      ]
     },
     "metadata": {
      "needs_background": "light"
     },
     "output_type": "display_data"
    }
   ],
   "source": [
    "plt.scatter(y_test, y_pred_xgb, c='black',alpha=0.3)\n",
    "plt.xlabel(\"y_test\")\n",
    "plt.ylabel(\"y_pred\")\n",
    "plt.show()"
   ]
  },
  {
   "cell_type": "markdown",
   "metadata": {},
   "source": [
    "# система алгоритмов"
   ]
  },
  {
   "cell_type": "code",
   "execution_count": 10,
   "metadata": {},
   "outputs": [],
   "source": [
    "xgb = XGBRegressor(n_estimators= 600, max_depth= 15, subsample = 0.9, colsample_bytree = 0.8)\n",
    "exr = ExtraTreesRegressor (min_samples_leaf = 1, min_samples_split =5, n_estimators = 400)\n",
    "ada = AdaBoostRegressor (DecisionTreeRegressor(), n_estimators=400, learning_rate=1.2, loss = 'linear')"
   ]
  },
  {
   "cell_type": "code",
   "execution_count": 12,
   "metadata": {},
   "outputs": [
    {
     "name": "stdout",
     "output_type": "stream",
     "text": [
      "[18:32:14] WARNING: C:/Jenkins/workspace/xgboost-win64_release_0.90/src/objective/regression_obj.cu:152: reg:linear is now deprecated in favor of reg:squarederror.\n",
      "[18:44:12] WARNING: C:/Jenkins/workspace/xgboost-win64_release_0.90/src/objective/regression_obj.cu:152: reg:linear is now deprecated in favor of reg:squarederror.\n",
      "[18:56:10] WARNING: C:/Jenkins/workspace/xgboost-win64_release_0.90/src/objective/regression_obj.cu:152: reg:linear is now deprecated in favor of reg:squarederror.\n",
      "[19:08:13] WARNING: C:/Jenkins/workspace/xgboost-win64_release_0.90/src/objective/regression_obj.cu:152: reg:linear is now deprecated in favor of reg:squarederror.\n",
      "[19:20:13] WARNING: C:/Jenkins/workspace/xgboost-win64_release_0.90/src/objective/regression_obj.cu:152: reg:linear is now deprecated in favor of reg:squarederror.\n",
      "[19:32:12] WARNING: C:/Jenkins/workspace/xgboost-win64_release_0.90/src/objective/regression_obj.cu:152: reg:linear is now deprecated in favor of reg:squarederror.\n",
      "[19:44:16] WARNING: C:/Jenkins/workspace/xgboost-win64_release_0.90/src/objective/regression_obj.cu:152: reg:linear is now deprecated in favor of reg:squarederror.\n",
      "[19:56:19] WARNING: C:/Jenkins/workspace/xgboost-win64_release_0.90/src/objective/regression_obj.cu:152: reg:linear is now deprecated in favor of reg:squarederror.\n",
      "[20:08:16] WARNING: C:/Jenkins/workspace/xgboost-win64_release_0.90/src/objective/regression_obj.cu:152: reg:linear is now deprecated in favor of reg:squarederror.\n",
      "[20:20:15] WARNING: C:/Jenkins/workspace/xgboost-win64_release_0.90/src/objective/regression_obj.cu:152: reg:linear is now deprecated in favor of reg:squarederror.\n",
      "[20:32:13] WARNING: C:/Jenkins/workspace/xgboost-win64_release_0.90/src/objective/regression_obj.cu:152: reg:linear is now deprecated in favor of reg:squarederror.\n",
      "[20:44:09] WARNING: C:/Jenkins/workspace/xgboost-win64_release_0.90/src/objective/regression_obj.cu:152: reg:linear is now deprecated in favor of reg:squarederror.\n",
      "[20:56:08] WARNING: C:/Jenkins/workspace/xgboost-win64_release_0.90/src/objective/regression_obj.cu:152: reg:linear is now deprecated in favor of reg:squarederror.\n",
      "[21:45:14] WARNING: C:/Jenkins/workspace/xgboost-win64_release_0.90/src/objective/regression_obj.cu:152: reg:linear is now deprecated in favor of reg:squarederror.\n"
     ]
    },
    {
     "data": {
      "text/plain": [
       "StackingCVRegressor(cv=12,\n",
       "                    meta_regressor=XGBRegressor(base_score=0.5,\n",
       "                                                booster='gbtree',\n",
       "                                                colsample_bylevel=1,\n",
       "                                                colsample_bynode=1,\n",
       "                                                colsample_bytree=0.8, gamma=0,\n",
       "                                                importance_type='gain',\n",
       "                                                learning_rate=0.1,\n",
       "                                                max_delta_step=0, max_depth=15,\n",
       "                                                min_child_weight=1,\n",
       "                                                missing=None, n_estimators=600,\n",
       "                                                n_jobs=1, nthread=None,\n",
       "                                                objective='reg:linear',\n",
       "                                                random_state=0, reg_alpha=0,\n",
       "                                                reg_...\n",
       "                                             importance_type='gain',\n",
       "                                             learning_rate=0.1,\n",
       "                                             max_delta_step=0, max_depth=15,\n",
       "                                             min_child_weight=1, missing=None,\n",
       "                                             n_estimators=600, n_jobs=1,\n",
       "                                             nthread=None,\n",
       "                                             objective='reg:linear',\n",
       "                                             random_state=0, reg_alpha=0,\n",
       "                                             reg_lambda=1, scale_pos_weight=1,\n",
       "                                             seed=None, silent=None,\n",
       "                                             subsample=0.9, verbosity=1)),\n",
       "                    shuffle=False, store_train_meta_features=True,\n",
       "                    use_features_in_secondary=True, verbose=0)"
      ]
     },
     "execution_count": 12,
     "metadata": {},
     "output_type": "execute_result"
    }
   ],
   "source": [
    "stack_1 = StackingCVRegressor(regressors=(ada, exr, xgb),\n",
    "                            meta_regressor=xgb, cv=12,\n",
    "                            use_features_in_secondary=True,\n",
    "                            store_train_meta_features=True,\n",
    "                            shuffle=False,\n",
    "                            random_state=100)\n",
    "stack_1.fit(X_train, y_train)"
   ]
  },
  {
   "cell_type": "code",
   "execution_count": 13,
   "metadata": {},
   "outputs": [],
   "source": [
    "X_test.columns = ['f0', 'f1', 'f2', 'f3', 'f4', 'f5', 'f6', 'f7', 'f8', 'f9', 'f10', 'f11', 'f12', 'f13', 'f14', 'f15', 'f16', 'f17']\n",
    "pred_stack_1 = stack_1.predict(X_test)\n",
    "score = r2_score(y_test, pred_stack_1)"
   ]
  },
  {
   "cell_type": "code",
   "execution_count": 14,
   "metadata": {},
   "outputs": [
    {
     "name": "stdout",
     "output_type": "stream",
     "text": [
      "Средняя абсолютная ошибка:1037.0842480876702\n",
      "Квадрат Среднего квадрата отклонения(RMSE):2153.2499475329114\n"
     ]
    }
   ],
   "source": [
    "metric_stack_1 = metrics.mean_absolute_error(y_test, pred_stack_1) \n",
    "metric_sqrt_stack_1 = np.sqrt(metrics.mean_squared_error(y_test, pred_stack_1))\n",
    "print ('Средняя абсолютная ошибка:'+ str(metric_stack_1))\n",
    "print ('Квадрат Среднего квадрата отклонения(RMSE):' + str(metric_sqrt_stack_1))"
   ]
  },
  {
   "cell_type": "code",
   "execution_count": 15,
   "metadata": {},
   "outputs": [
    {
     "data": {
      "text/plain": [
       "0.9888365568442585"
      ]
     },
     "execution_count": 15,
     "metadata": {},
     "output_type": "execute_result"
    }
   ],
   "source": [
    "score"
   ]
  },
  {
   "cell_type": "code",
   "execution_count": 15,
   "metadata": {},
   "outputs": [
    {
     "data": {
      "text/plain": [
       "StackingCVRegressor(cv=12,\n",
       "                    meta_regressor=AdaBoostRegressor(base_estimator=DecisionTreeRegressor(ccp_alpha=0.0,\n",
       "                                                                                          criterion='mse',\n",
       "                                                                                          max_depth=None,\n",
       "                                                                                          max_features=None,\n",
       "                                                                                          max_leaf_nodes=None,\n",
       "                                                                                          min_impurity_decrease=0.0,\n",
       "                                                                                          min_impurity_split=None,\n",
       "                                                                                          min_samples_leaf=1,\n",
       "                                                                                          min_samples_split=2,\n",
       "                                                                                          min_weight_fraction_leaf=0.0,\n",
       "                                                                                          presort='deprecated',\n",
       "                                                                                          random_state=None,\n",
       "                                                                                          splitter='best...\n",
       "                                                                                       max_features=None,\n",
       "                                                                                       max_leaf_nodes=None,\n",
       "                                                                                       min_impurity_decrease=0.0,\n",
       "                                                                                       min_impurity_split=None,\n",
       "                                                                                       min_samples_leaf=1,\n",
       "                                                                                       min_samples_split=2,\n",
       "                                                                                       min_weight_fraction_leaf=0.0,\n",
       "                                                                                       presort='deprecated',\n",
       "                                                                                       random_state=None,\n",
       "                                                                                       splitter='best'),\n",
       "                                                  learning_rate=0.5,\n",
       "                                                  loss='linear',\n",
       "                                                  n_estimators=100,\n",
       "                                                  random_state=None)),\n",
       "                    shuffle=False, store_train_meta_features=True,\n",
       "                    use_features_in_secondary=True, verbose=0)"
      ]
     },
     "execution_count": 15,
     "metadata": {},
     "output_type": "execute_result"
    }
   ],
   "source": [
    "stack_2 = StackingCVRegressor(regressors=(rf, exr, ada),\n",
    "                            meta_regressor=ada, cv=12,\n",
    "                            use_features_in_secondary=True,\n",
    "                            store_train_meta_features=True,\n",
    "                            shuffle=False,\n",
    "                            random_state=100)\n",
    "stack_2.fit(X_train, y_train)"
   ]
  },
  {
   "cell_type": "code",
   "execution_count": 18,
   "metadata": {},
   "outputs": [],
   "source": [
    "X_test.columns = ['f0', 'f1', 'f2', 'f3', 'f4', 'f5', 'f6', 'f7', 'f8', 'f9', 'f10', 'f11', 'f12', 'f13', 'f14', 'f15', 'f16', 'f17']\n",
    "pred_stack_2 = stack_2.predict(X_test)\n",
    "score = r2_score(y_test, pred_stack_2)"
   ]
  },
  {
   "cell_type": "code",
   "execution_count": 19,
   "metadata": {},
   "outputs": [
    {
     "name": "stdout",
     "output_type": "stream",
     "text": [
      "Средняя абсолютная ошибка:1194.6823029043676\n",
      "Квадрат Среднего квадрата отклонения(RMSE):2574.8188449960276\n"
     ]
    }
   ],
   "source": [
    "metric_stack_2 = metrics.mean_absolute_error(y_test, pred_stack_2) \n",
    "metric_sqrt_stack_2 = np.sqrt(metrics.mean_squared_error(y_test, pred_stack_2))\n",
    "print ('Средняя абсолютная ошибка:'+ str(metric_stack_2))\n",
    "print ('Квадрат Среднего квадрата отклонения(RMSE):' + str(metric_sqrt_stack_2))"
   ]
  },
  {
   "cell_type": "code",
   "execution_count": 20,
   "metadata": {},
   "outputs": [
    {
     "data": {
      "text/plain": [
       "0.9840564485529977"
      ]
     },
     "execution_count": 20,
     "metadata": {},
     "output_type": "execute_result"
    }
   ],
   "source": [
    "score"
   ]
  },
  {
   "cell_type": "code",
   "execution_count": null,
   "metadata": {},
   "outputs": [],
   "source": []
  },
  {
   "cell_type": "code",
   "execution_count": null,
   "metadata": {},
   "outputs": [],
   "source": []
  },
  {
   "cell_type": "code",
   "execution_count": null,
   "metadata": {},
   "outputs": [],
   "source": []
  },
  {
   "cell_type": "markdown",
   "metadata": {},
   "source": [
    "# сетка RandomForestRegressor()\n"
   ]
  },
  {
   "cell_type": "code",
   "execution_count": 12,
   "metadata": {},
   "outputs": [],
   "source": [
    "clf_rf = RandomForestRegressor()"
   ]
  },
  {
   "cell_type": "code",
   "execution_count": 8,
   "metadata": {},
   "outputs": [
    {
     "data": {
      "text/plain": [
       "dict_keys(['bootstrap', 'ccp_alpha', 'criterion', 'max_depth', 'max_features', 'max_leaf_nodes', 'max_samples', 'min_impurity_decrease', 'min_impurity_split', 'min_samples_leaf', 'min_samples_split', 'min_weight_fraction_leaf', 'n_estimators', 'n_jobs', 'oob_score', 'random_state', 'verbose', 'warm_start'])"
      ]
     },
     "execution_count": 8,
     "metadata": {},
     "output_type": "execute_result"
    }
   ],
   "source": [
    "clf_rf.get_params().keys()\n",
    "# посмотрим какие параметры у нас вообще есть, какие можем подобрать"
   ]
  },
  {
   "cell_type": "code",
   "execution_count": 13,
   "metadata": {},
   "outputs": [],
   "source": [
    "parameters_grid = { # Random Forest \n",
    "        'n_estimators':[200, 400, 600],\n",
    "        'max_features':[10, 15, 18]}"
   ]
  },
  {
   "cell_type": "code",
   "execution_count": 14,
   "metadata": {},
   "outputs": [],
   "source": [
    "grid_cv = model_selection.GridSearchCV(\n",
    "        estimator=clf_rf,\n",
    "        param_grid=parameters_grid, \n",
    "        n_jobs=-1, \n",
    "        scoring='neg_mean_squared_error',\n",
    "        verbose=2\n",
    "    )"
   ]
  },
  {
   "cell_type": "code",
   "execution_count": 15,
   "metadata": {},
   "outputs": [
    {
     "name": "stdout",
     "output_type": "stream",
     "text": [
      "Fitting 5 folds for each of 9 candidates, totalling 45 fits\n"
     ]
    },
    {
     "name": "stderr",
     "output_type": "stream",
     "text": [
      "[Parallel(n_jobs=-1)]: Using backend LokyBackend with 4 concurrent workers.\n",
      "[Parallel(n_jobs=-1)]: Done  33 tasks      | elapsed: 91.8min\n",
      "[Parallel(n_jobs=-1)]: Done  45 out of  45 | elapsed: 155.6min finished\n"
     ]
    }
   ],
   "source": [
    "fitted_model = grid_cv.fit(X_train, y_train)"
   ]
  },
  {
   "cell_type": "code",
   "execution_count": 16,
   "metadata": {},
   "outputs": [
    {
     "name": "stdout",
     "output_type": "stream",
     "text": [
      "-8492267.849015722\n",
      "{'max_features': 18, 'n_estimators': 200}\n"
     ]
    }
   ],
   "source": [
    "print (grid_cv.best_score_)\n",
    "print (grid_cv.best_params_)"
   ]
  },
  {
   "cell_type": "code",
   "execution_count": 17,
   "metadata": {},
   "outputs": [
    {
     "data": {
      "text/plain": [
       "RandomForestRegressor(bootstrap=True, ccp_alpha=0.0, criterion='mse',\n",
       "                      max_depth=None, max_features=18, max_leaf_nodes=None,\n",
       "                      max_samples=None, min_impurity_decrease=0.0,\n",
       "                      min_impurity_split=None, min_samples_leaf=1,\n",
       "                      min_samples_split=2, min_weight_fraction_leaf=0.0,\n",
       "                      n_estimators=200, n_jobs=-1, oob_score=False,\n",
       "                      random_state=None, verbose=0, warm_start=False)"
      ]
     },
     "execution_count": 17,
     "metadata": {},
     "output_type": "execute_result"
    }
   ],
   "source": [
    "clf_rf = RandomForestRegressor(max_features = 18, n_estimators = 200, n_jobs=-1)\n",
    "clf_rf.fit(X_train, y_train)"
   ]
  },
  {
   "cell_type": "code",
   "execution_count": 18,
   "metadata": {},
   "outputs": [
    {
     "name": "stdout",
     "output_type": "stream",
     "text": [
      "Средняя абсолютная ошибка:1293.0261765515736\n",
      "Квадрат Среднего квадрата отклонения(RMSE):2790.1285851149933\n"
     ]
    }
   ],
   "source": [
    "y_pred_rf=clf_rf.predict(X_test)\n",
    "metric_rf = metrics.mean_absolute_error(y_test, y_pred_rf)\n",
    "metric_sq_rf = np.sqrt(metrics.mean_squared_error(y_test, y_pred_rf))\n",
    "print ('Средняя абсолютная ошибка:'+ str(metric_rf))\n",
    "print ('Квадрат Среднего квадрата отклонения(RMSE):'+ str(metric_sq_rf))"
   ]
  },
  {
   "cell_type": "code",
   "execution_count": 22,
   "metadata": {},
   "outputs": [
    {
     "data": {
      "text/plain": [
       "dict_keys(['explained_variance', 'r2', 'max_error', 'neg_median_absolute_error', 'neg_mean_absolute_error', 'neg_mean_squared_error', 'neg_mean_squared_log_error', 'neg_root_mean_squared_error', 'neg_mean_poisson_deviance', 'neg_mean_gamma_deviance', 'accuracy', 'roc_auc', 'roc_auc_ovr', 'roc_auc_ovo', 'roc_auc_ovr_weighted', 'roc_auc_ovo_weighted', 'balanced_accuracy', 'average_precision', 'neg_log_loss', 'neg_brier_score', 'adjusted_rand_score', 'homogeneity_score', 'completeness_score', 'v_measure_score', 'mutual_info_score', 'adjusted_mutual_info_score', 'normalized_mutual_info_score', 'fowlkes_mallows_score', 'precision', 'precision_macro', 'precision_micro', 'precision_samples', 'precision_weighted', 'recall', 'recall_macro', 'recall_micro', 'recall_samples', 'recall_weighted', 'f1', 'f1_macro', 'f1_micro', 'f1_samples', 'f1_weighted', 'jaccard', 'jaccard_macro', 'jaccard_micro', 'jaccard_samples', 'jaccard_weighted'])"
      ]
     },
     "execution_count": 22,
     "metadata": {},
     "output_type": "execute_result"
    }
   ],
   "source": [
    "metrics.SCORERS.keys()1273"
   ]
  },
  {
   "cell_type": "code",
   "execution_count": 38,
   "metadata": {},
   "outputs": [
    {
     "data": {
      "text/plain": [
       "161758     1135.387486\n",
       "324018     1794.483163\n",
       "58262      1310.678472\n",
       "280333     3391.076873\n",
       "350936      153.025469\n",
       "              ...     \n",
       "161276     1737.509632\n",
       "255132    14920.010141\n",
       "272770     1703.394737\n",
       "286385     1140.542431\n",
       "323844     1698.471872\n",
       "Name: Weekly_Sales, Length: 105393, dtype: float64"
      ]
     },
     "execution_count": 38,
     "metadata": {},
     "output_type": "execute_result"
    }
   ],
   "source": [
    "abs(y_pred_rf - y_test)"
   ]
  },
  {
   "cell_type": "code",
   "execution_count": 40,
   "metadata": {},
   "outputs": [
    {
     "data": {
      "image/png": "[encoded data removed]",
      "text/plain": [
       "<Figure size 720x576 with 1 Axes>"
      ]
     },
     "metadata": {
      "needs_background": "light"
     },
     "output_type": "display_data"
    }
   ],
   "source": [
    "from IPython.core.pylabtools import figsize\n",
    "figsize(10,8)\n",
    "sns_plot = sns.distplot(abs(y_pred_rf - y_test))\n",
    "fig = sns_plot.get_figure()"
   ]
  },
  {
   "cell_type": "code",
   "execution_count": null,
   "metadata": {},
   "outputs": [],
   "source": []
  },
  {
   "cell_type": "markdown",
   "metadata": {},
   "source": [
    "# сетка XGBRegressor() "
   ]
  },
  {
   "cell_type": "code",
   "execution_count": 11,
   "metadata": {},
   "outputs": [],
   "source": [
    "xgb_clf = XGBRegressor() "
   ]
  },
  {
   "cell_type": "code",
   "execution_count": 12,
   "metadata": {},
   "outputs": [
    {
     "data": {
      "text/plain": [
       "dict_keys(['base_score', 'booster', 'colsample_bylevel', 'colsample_bynode', 'colsample_bytree', 'gamma', 'importance_type', 'learning_rate', 'max_delta_step', 'max_depth', 'min_child_weight', 'missing', 'n_estimators', 'n_jobs', 'nthread', 'objective', 'random_state', 'reg_alpha', 'reg_lambda', 'scale_pos_weight', 'seed', 'silent', 'subsample', 'verbosity'])"
      ]
     },
     "execution_count": 12,
     "metadata": {},
     "output_type": "execute_result"
    }
   ],
   "source": [
    "xgb_clf.get_params().keys()"
   ]
  },
  {
   "cell_type": "code",
   "execution_count": 13,
   "metadata": {},
   "outputs": [],
   "source": [
    "grid_parameters_xgb = { # XGBoost\n",
    "        'n_estimators': [400, 600],\n",
    "        'colsample_bytree': [0.7, 0.8],\n",
    "        'max_depth': [15, 20, 25],\n",
    "        'subsample': [0.7, 0.8, 0.9]}"
   ]
  },
  {
   "cell_type": "code",
   "execution_count": 14,
   "metadata": {},
   "outputs": [],
   "source": [
    "grid_xgb = model_selection.GridSearchCV(\n",
    "        estimator=xgb_clf,\n",
    "        param_grid=grid_parameters_xgb, \n",
    "        n_jobs=-1, \n",
    "        scoring='neg_mean_squared_error',\n",
    "        verbose=2\n",
    "    )"
   ]
  },
  {
   "cell_type": "code",
   "execution_count": 15,
   "metadata": {},
   "outputs": [
    {
     "name": "stdout",
     "output_type": "stream",
     "text": [
      "Fitting 5 folds for each of 36 candidates, totalling 180 fits\n"
     ]
    },
    {
     "name": "stderr",
     "output_type": "stream",
     "text": [
      "[Parallel(n_jobs=-1)]: Using backend LokyBackend with 4 concurrent workers.\n",
      "[Parallel(n_jobs=-1)]: Done  33 tasks      | elapsed: 104.8min\n",
      "[Parallel(n_jobs=-1)]: Done 154 tasks      | elapsed: 662.4min\n",
      "[Parallel(n_jobs=-1)]: Done 180 out of 180 | elapsed: 841.3min finished\n",
      "C:\\Users\\User\\Anaconda3\\lib\\site-packages\\xgboost\\core.py:587: FutureWarning: Series.base is deprecated and will be removed in a future version\n",
      "  if getattr(data, 'base', None) is not None and \\\n"
     ]
    },
    {
     "name": "stdout",
     "output_type": "stream",
     "text": [
      "[13:53:12] WARNING: C:/Jenkins/workspace/xgboost-win64_release_0.90/src/objective/regression_obj.cu:152: reg:linear is now deprecated in favor of reg:squarederror.\n"
     ]
    }
   ],
   "source": [
    "fitted_model = grid_xgb.fit(X_train, y_train)"
   ]
  },
  {
   "cell_type": "code",
   "execution_count": 18,
   "metadata": {},
   "outputs": [
    {
     "name": "stdout",
     "output_type": "stream",
     "text": [
      "-5560634.805464836\n",
      "{'colsample_bytree': 0.8, 'max_depth': 15, 'n_estimators': 600, 'subsample': 0.9}\n"
     ]
    }
   ],
   "source": [
    "print (grid_xgb.best_score_)\n",
    "print (grid_xgb.best_params_)"
   ]
  },
  {
   "cell_type": "code",
   "execution_count": 19,
   "metadata": {},
   "outputs": [
    {
     "name": "stdout",
     "output_type": "stream",
     "text": [
      "[14:09:39] WARNING: C:/Jenkins/workspace/xgboost-win64_release_0.90/src/objective/regression_obj.cu:152: reg:linear is now deprecated in favor of reg:squarederror.\n"
     ]
    }
   ],
   "source": [
    "xgb_clf = XGBRegressor(n_estimators= 600, max_depth= 15, subsample = 0.9, colsample_bytree = 0.8) \n",
    "xgb_clf = xgb_clf.fit(X_train, y_train)"
   ]
  },
  {
   "cell_type": "code",
   "execution_count": 20,
   "metadata": {},
   "outputs": [
    {
     "name": "stdout",
     "output_type": "stream",
     "text": [
      "Средняя абсолютная ошибка:1131.3820696834568\n",
      "Квадрат Среднего квадрата отклонения(RMSE):2275.3812155669702\n"
     ]
    }
   ],
   "source": [
    "y_pred_xgb= xgb_clf.predict(X_test) \n",
    "metric_xgb = metrics.mean_absolute_error(y_test, y_pred_xgb) \n",
    "metric_sq_xgb = np.sqrt(metrics.mean_squared_error(y_test, y_pred_xgb))\n",
    "print ('Средняя абсолютная ошибка:'+ str(metric_xgb))\n",
    "print ('Квадрат Среднего квадрата отклонения(RMSE):' + str(metric_sq_xgb))"
   ]
  },
  {
   "cell_type": "code",
   "execution_count": null,
   "metadata": {},
   "outputs": [],
   "source": []
  },
  {
   "cell_type": "code",
   "execution_count": null,
   "metadata": {},
   "outputs": [],
   "source": []
  },
  {
   "cell_type": "markdown",
   "metadata": {},
   "source": [
    "# сетка DecisionTreeRegressor()"
   ]
  },
  {
   "cell_type": "code",
   "execution_count": null,
   "metadata": {},
   "outputs": [],
   "source": [
    "max_depth= 25,  min_samples_leaf = 4, min_samples_split = 16"
   ]
  },
  {
   "cell_type": "code",
   "execution_count": 43,
   "metadata": {},
   "outputs": [],
   "source": [
    "clf_dt=DecisionTreeRegressor()"
   ]
  },
  {
   "cell_type": "code",
   "execution_count": 44,
   "metadata": {},
   "outputs": [],
   "source": [
    "grid_parameters_dt = { # DecisionTree\n",
    "        'min_samples_split': [13, 16, 20],\n",
    "        'min_samples_leaf': [4, 5, 6, 7],\n",
    "        'max_depth': [15, 20, 25]}"
   ]
  },
  {
   "cell_type": "code",
   "execution_count": 47,
   "metadata": {},
   "outputs": [],
   "source": [
    "grid_dt = model_selection.GridSearchCV(\n",
    "        estimator=clf_dt,\n",
    "        param_grid=grid_parameters_dt, \n",
    "        n_jobs=-1, \n",
    "        scoring='neg_mean_squared_error',\n",
    "        verbose=2\n",
    "    )"
   ]
  },
  {
   "cell_type": "code",
   "execution_count": 48,
   "metadata": {},
   "outputs": [
    {
     "name": "stdout",
     "output_type": "stream",
     "text": [
      "Fitting 5 folds for each of 36 candidates, totalling 180 fits\n"
     ]
    },
    {
     "name": "stderr",
     "output_type": "stream",
     "text": [
      "[Parallel(n_jobs=-1)]: Using backend LokyBackend with 4 concurrent workers.\n",
      "[Parallel(n_jobs=-1)]: Done  33 tasks      | elapsed:   47.3s\n",
      "[Parallel(n_jobs=-1)]: Done 154 tasks      | elapsed:  2.4min\n",
      "[Parallel(n_jobs=-1)]: Done 180 out of 180 | elapsed:  2.8min finished\n"
     ]
    }
   ],
   "source": [
    "fitted_model = grid_dt.fit(X_train, y_train)"
   ]
  },
  {
   "cell_type": "code",
   "execution_count": 51,
   "metadata": {},
   "outputs": [
    {
     "name": "stdout",
     "output_type": "stream",
     "text": [
      "-13110923.24986887\n",
      "{'max_depth': 25, 'min_samples_leaf': 5, 'min_samples_split': 13}\n"
     ]
    }
   ],
   "source": [
    "print (grid_dt.best_score_)\n",
    "print (grid_dt.best_params_)"
   ]
  },
  {
   "cell_type": "code",
   "execution_count": 52,
   "metadata": {},
   "outputs": [
    {
     "data": {
      "text/plain": [
       "DecisionTreeRegressor(ccp_alpha=0.0, criterion='mse', max_depth=25,\n",
       "                      max_features=None, max_leaf_nodes=None,\n",
       "                      min_impurity_decrease=0.0, min_impurity_split=None,\n",
       "                      min_samples_leaf=5, min_samples_split=13,\n",
       "                      min_weight_fraction_leaf=0.0, presort='deprecated',\n",
       "                      random_state=None, splitter='best')"
      ]
     },
     "execution_count": 52,
     "metadata": {},
     "output_type": "execute_result"
    }
   ],
   "source": [
    "clf_dt=DecisionTreeRegressor(max_depth= 25,  min_samples_leaf = 5, min_samples_split = 13)\n",
    "clf_dt.fit(X_train, y_train)"
   ]
  },
  {
   "cell_type": "code",
   "execution_count": 53,
   "metadata": {},
   "outputs": [
    {
     "name": "stdout",
     "output_type": "stream",
     "text": [
      "Средняя абсолютная ошибка:1583.3015773543248\n",
      "Квадрат Среднего квадрата отклонения(RMSE):3446.7478970254697\n"
     ]
    }
   ],
   "source": [
    "y_pred_dt= clf_dt.predict(X_test) #делаем предсказание\n",
    "metric_dt = metrics.mean_absolute_error(y_test, y_pred_dt)\n",
    "metric_sq_dt = np.sqrt(metrics.mean_squared_error(y_test, y_pred_dt))\n",
    "print ('Средняя абсолютная ошибка:'+ str(metric_dt))\n",
    "print ('Квадрат Среднего квадрата отклонения(RMSE):'+ str(metric_sq_dt))"
   ]
  },
  {
   "cell_type": "code",
   "execution_count": null,
   "metadata": {},
   "outputs": [],
   "source": []
  },
  {
   "cell_type": "code",
   "execution_count": null,
   "metadata": {},
   "outputs": [],
   "source": []
  },
  {
   "cell_type": "markdown",
   "metadata": {},
   "source": [
    "# Сетка AdaBoostRegressor"
   ]
  },
  {
   "cell_type": "code",
   "execution_count": 18,
   "metadata": {},
   "outputs": [
    {
     "data": {
      "text/plain": [
       "dict_keys(['base_estimator__ccp_alpha', 'base_estimator__criterion', 'base_estimator__max_depth', 'base_estimator__max_features', 'base_estimator__max_leaf_nodes', 'base_estimator__min_impurity_decrease', 'base_estimator__min_impurity_split', 'base_estimator__min_samples_leaf', 'base_estimator__min_samples_split', 'base_estimator__min_weight_fraction_leaf', 'base_estimator__presort', 'base_estimator__random_state', 'base_estimator__splitter', 'base_estimator', 'learning_rate', 'loss', 'n_estimators', 'random_state'])"
      ]
     },
     "execution_count": 18,
     "metadata": {},
     "output_type": "execute_result"
    }
   ],
   "source": [
    "ada_clf.get_params().keys()"
   ]
  },
  {
   "cell_type": "code",
   "execution_count": 7,
   "metadata": {},
   "outputs": [],
   "source": [
    "ada_clf = AdaBoostRegressor (DecisionTreeRegressor())\n",
    "#ada_clf.fit (X_train, y_train ) "
   ]
  },
  {
   "cell_type": "code",
   "execution_count": 8,
   "metadata": {},
   "outputs": [],
   "source": [
    "grid_parameters_ada = { # adaboost\n",
    "        'n_estimators': [200, 400],\n",
    "        'learning_rate': [0.5, 0.8, 1, 1.2],}"
   ]
  },
  {
   "cell_type": "code",
   "execution_count": 9,
   "metadata": {},
   "outputs": [],
   "source": [
    "grid_ada = model_selection.GridSearchCV(\n",
    "        estimator=ada_clf,\n",
    "        param_grid=grid_parameters_ada, \n",
    "        n_jobs=-1, \n",
    "        scoring='neg_mean_squared_error',\n",
    "        verbose=2\n",
    "    )"
   ]
  },
  {
   "cell_type": "code",
   "execution_count": 1,
   "metadata": {},
   "outputs": [],
   "source": [
    "fitted_model = grid_ada.fit(X_train, y_train)"
   ]
  },
  {
   "cell_type": "code",
   "execution_count": 22,
   "metadata": {},
   "outputs": [
    {
     "name": "stdout",
     "output_type": "stream",
     "text": [
      "-10424442.53254722\n",
      "{'base_estimator__max_depth': 15, 'learning_rate': 0.5, 'n_estimators': 200}\n"
     ]
    }
   ],
   "source": [
    "print (grid_ada.best_score_)\n",
    "print (grid_ada.best_params_)"
   ]
  },
  {
   "cell_type": "code",
   "execution_count": 36,
   "metadata": {},
   "outputs": [],
   "source": [
    "ada_clf = AdaBoostRegressor (DecisionTreeRegressor(), learning_rate = 0.5, n_estimators = 400)"
   ]
  },
  {
   "cell_type": "code",
   "execution_count": 18,
   "metadata": {},
   "outputs": [],
   "source": [
    "ada_clf.fit (X_train, y_train )"
   ]
  },
  {
   "cell_type": "code",
   "execution_count": null,
   "metadata": {},
   "outputs": [],
   "source": [
    "y_pred_ada= ada_clf.predict(X_test) \n",
    "metric_ada = metrics.mean_absolute_error(y_test, y_pred_ada) \n",
    "metric_sq_ada = np.sqrt(metrics.mean_squared_error(y_test, y_pred_ada))\n",
    "print ('Средняя абсолютная ошибка:'+ str(metric_ada))\n",
    "print ('Квадрат Среднего квадрата отклонения(RMSE):' + str(metric_sq_ada))\n",
    "#score_ada = r2_score(y_test, y_pred_ada)\n",
    "#print(score_ada)"
   ]
  },
  {
   "cell_type": "code",
   "execution_count": 8,
   "metadata": {},
   "outputs": [
    {
     "data": {
      "text/plain": [
       "dict_keys(['bootstrap', 'ccp_alpha', 'criterion', 'max_depth', 'max_features', 'max_leaf_nodes', 'max_samples', 'min_impurity_decrease', 'min_impurity_split', 'min_samples_leaf', 'min_samples_split', 'min_weight_fraction_leaf', 'n_estimators', 'n_jobs', 'oob_score', 'random_state', 'verbose', 'warm_start'])"
      ]
     },
     "execution_count": 8,
     "metadata": {},
     "output_type": "execute_result"
    }
   ],
   "source": [
    "clf_ex.get_params().keys()"
   ]
  },
  {
   "cell_type": "markdown",
   "metadata": {},
   "source": [
    "# сетка ExtraTrees"
   ]
  },
  {
   "cell_type": "code",
   "execution_count": 7,
   "metadata": {},
   "outputs": [],
   "source": [
    "clf_ex = ExtraTreesRegressor ()\n"
   ]
  },
  {
   "cell_type": "code",
   "execution_count": 8,
   "metadata": {},
   "outputs": [],
   "source": [
    "grid_parameters_ex = { # Extratree\n",
    "        'n_estimators':[200, 400],\n",
    "        'min_samples_split': [2, 5, 7],\n",
    "        'min_samples_leaf': [1, 3, 5]}"
   ]
  },
  {
   "cell_type": "code",
   "execution_count": 9,
   "metadata": {},
   "outputs": [],
   "source": [
    "grid_ex = model_selection.GridSearchCV(\n",
    "        estimator=clf_ex,\n",
    "        param_grid=grid_parameters_ex, \n",
    "        n_jobs=-1, \n",
    "        scoring='neg_mean_squared_error',\n",
    "        verbose=2\n",
    "    )"
   ]
  },
  {
   "cell_type": "code",
   "execution_count": 10,
   "metadata": {},
   "outputs": [
    {
     "name": "stdout",
     "output_type": "stream",
     "text": [
      "Fitting 5 folds for each of 18 candidates, totalling 90 fits\n"
     ]
    },
    {
     "name": "stderr",
     "output_type": "stream",
     "text": [
      "[Parallel(n_jobs=-1)]: Using backend LokyBackend with 4 concurrent workers.\n",
      "[Parallel(n_jobs=-1)]: Done  33 tasks      | elapsed: 61.3min\n",
      "[Parallel(n_jobs=-1)]: Done  90 out of  90 | elapsed: 158.4min finished\n"
     ]
    }
   ],
   "source": [
    "fitted_model = grid_ex.fit(X_train, y_train)"
   ]
  },
  {
   "cell_type": "code",
   "execution_count": 11,
   "metadata": {},
   "outputs": [
    {
     "name": "stdout",
     "output_type": "stream",
     "text": [
      "{'min_samples_leaf': 1, 'min_samples_split': 5, 'n_estimators': 400}\n"
     ]
    }
   ],
   "source": [
    "\n",
    "print (grid_ex.best_params_)"
   ]
  },
  {
   "cell_type": "code",
   "execution_count": 12,
   "metadata": {},
   "outputs": [],
   "source": [
    "clf_ex = ExtraTreesRegressor (min_samples_leaf = 1, min_samples_split =5, n_estimators = 400)"
   ]
  },
  {
   "cell_type": "code",
   "execution_count": 13,
   "metadata": {},
   "outputs": [
    {
     "data": {
      "text/plain": [
       "ExtraTreesRegressor(bootstrap=False, ccp_alpha=0.0, criterion='mse',\n",
       "                    max_depth=None, max_features='auto', max_leaf_nodes=None,\n",
       "                    max_samples=None, min_impurity_decrease=0.0,\n",
       "                    min_impurity_split=None, min_samples_leaf=1,\n",
       "                    min_samples_split=5, min_weight_fraction_leaf=0.0,\n",
       "                    n_estimators=400, n_jobs=None, oob_score=False,\n",
       "                    random_state=None, verbose=0, warm_start=False)"
      ]
     },
     "execution_count": 13,
     "metadata": {},
     "output_type": "execute_result"
    }
   ],
   "source": [
    "clf_ex.fit (X_train, y_train )"
   ]
  },
  {
   "cell_type": "code",
   "execution_count": 14,
   "metadata": {},
   "outputs": [
    {
     "name": "stdout",
     "output_type": "stream",
     "text": [
      "Средняя абсолютная ошибка:1275.9867351641\n",
      "Квадрат Среднего квадрата отклонения(RMSE):2781.8240987005984\n",
      "0.9814807186357324\n"
     ]
    }
   ],
   "source": [
    "y_pred_ex= clf_ex.predict(X_test) \n",
    "metric_ex = metrics.mean_absolute_error(y_test, y_pred_ex) \n",
    "metric_sq_ex = np.sqrt(metrics.mean_squared_error(y_test, y_pred_ex))\n",
    "print ('Средняя абсолютная ошибка:'+ str(metric_ex))\n",
    "print ('Квадрат Среднего квадрата отклонения(RMSE):'+ str(metric_sq_ex))\n",
    "score_ex = r2_score(y_test, y_pred_ex)\n",
    "print(score_ex)"
   ]
  },
  {
   "cell_type": "code",
   "execution_count": null,
   "metadata": {},
   "outputs": [],
   "source": []
  },
  {
   "cell_type": "code",
   "execution_count": null,
   "metadata": {},
   "outputs": [],
   "source": []
  },
  {
   "cell_type": "code",
   "execution_count": null,
   "metadata": {},
   "outputs": [],
   "source": []
  }
 ],
 "metadata": {
  "kernelspec": {
   "display_name": "Python 3",
   "language": "python",
   "name": "python3"
  },
  "language_info": {
   "codemirror_mode": {
    "name": "ipython",
    "version": 3
   },
   "file_extension": ".py",
   "mimetype": "text/x-python",
   "name": "python",
   "nbconvert_exporter": "python",
   "pygments_lexer": "ipython3",
   "version": "3.7.4"
  }
 },
 "nbformat": 4,
 "nbformat_minor": 2
}
